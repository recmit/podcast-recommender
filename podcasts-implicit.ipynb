{
 "cells": [
  {
   "cell_type": "markdown",
   "id": "0f4c6fdb-4dcc-4e7e-a605-298494ead73c",
   "metadata": {},
   "source": [
    "# The Latent Space of Podcasts"
   ]
  },
  {
   "cell_type": "markdown",
   "id": "51925a83-dafb-4a60-9ae4-5e10861fb24c",
   "metadata": {},
   "source": [
    "Nowadays we encounter recommender systems on a daily basis in search engines, streaming platforms, and social media. There exist many different mechanisms behind recommender systems, but we will focus on a a class of methods known as **collaborative filtering**. In a nutshell, this approach consists of taking the set of all known user preferences and using that to \"predict\" the user's preference for an **item** (movie, song, news article) that the user hasn't seen yet (or for which the user hasn't indicated a preference). The basis for establishing this preference depends on the context. Some examples include user ratings on Netflix, or how many times a user has listened to a song on Spotify.\n",
    "\n",
    "Collaborative filtering relies on the assumption that similar users will like similar items. Furthermore, similarity is derived solely from the known user preferences, such as ratings, without any knowledge of the content of the items. Note that in practice only a tiny fraction of all user preferences are known. For example, Netflix users will only have watched a small fraction of all available content.\n",
    "\n",
    "I find **matrix-based** collaborative filtering methods especially interesting. In those methods both the users and the items are represented by vectors in some high-dimensional space, called **latent factors**, which encapsulate both user *preferences* and item *similarity*: Vectors for two similar items (or for a user with a positive preference for an item) point in similar directions.\n",
    "\n",
    "This latent space reflects patterns or structures in the set of items (for example movie genres), which we can visualize. For this we will need **dimensionality reduction techniques**, such as Principal Component Analysis, or PCA. It is interesting to see which structures emerge just from the set of user preferences, without providing any information about the items or users themselves. It is a useful check for our intuitions in regards to which items are more similar based on concepts like music style or movie genres.\n",
    "\n",
    "Learning about this made me wonder which patterns the **latent space of podcasts** might reveal, given that I am a big fan of podcasts myself. This has likely already been studied internally by companies such as Apple and Spotify, but I haven't found any publicly available recommender system for podcasts. I imagine that part of the reason is the lack of large open access datasets, which do exist for [movies](https://grouplens.org/datasets/movielens), [music](http://millionsongdataset.com/challenge), and [books](http://www2.informatik.uni-freiburg.de/~cziegler/BX). This is probably because the mainstream appeal of podcasts is a relatively recent phenomenon.\n",
    "\n",
    "Luckily I was able to find one pretty decent dataset of podcasts reviews on [Kaggle](https://www.kaggle.com/thoughtvector/podcastreviews). It consists of almost a million reviews for over 46,000 podcasts, stored in an SQLite database. Thanks to Stuart Axelbrooke for collecting the reviews and making them available for everyone!\n",
    "\n",
    "We will use this dataset to create a recommender and visualize the latent factors for some popular podcasts. Before we can do that we will need to clean the data first. The data is a bit more raw than some more mainstream recommeder datasets like MovieLens.\n",
    "\n",
    "Outline:\n",
    "- Import from SQLite\n",
    "- Explore and Clean Data\n",
    "- Implicit Recommender System\n",
    "- Latent Factors\n",
    "- Podcast Similarity\n",
    "- Discussion\n",
    "- Closing Thoughts"
   ]
  },
  {
   "cell_type": "code",
   "execution_count": 1,
   "id": "889b0b11-7bdb-438c-9825-e1587b836e8d",
   "metadata": {},
   "outputs": [],
   "source": [
    "import sqlite3\n",
    "import pandas as pd\n",
    "import numpy as np\n",
    "from implicit.als import AlternatingLeastSquares\n",
    "from implicit.evaluation import precision_at_k, leave_k_out_split\n",
    "from scipy import sparse\n",
    "from sklearn.decomposition import PCA\n",
    "import matplotlib.pyplot as plt"
   ]
  },
  {
   "cell_type": "markdown",
   "id": "b2b41de9-dacd-498c-a03c-e1ad2f8f6700",
   "metadata": {
    "tags": []
   },
   "source": [
    "## Import from SQLite\n",
    "\n",
    "The whole data is in an SQLite file. The SQLite database contains three tables:\n",
    "- `podcasts` table containing the podcast ID, name and URL.\n",
    "- `reviews` table containing all the information associated with every review: the star rating, the review title and content, the date and time it was posted, and finally the author ID of the user who made the review as well as the podcast ID.\n",
    "- `categories` table, which simply contains a column with podcasts IDs and a column with categories into which to those podcasts have been classified.\n",
    "\n",
    "We will load the data from the SQLite file into a pandas DataFrame. Specifically, we will take a left join of the podcasts table and reviews table and select a subset of the columns.\n",
    "\n",
    "For our purposes we will not need the review title and content. However, it would be interesting to do some NLP on the contents as a future project. Maybe some topic modeling which can be combined with collaborative filtering in a hybrid recommender system."
   ]
  },
  {
   "cell_type": "code",
   "execution_count": 2,
   "id": "5bc9ff5a-994a-4509-b43d-3395f952734c",
   "metadata": {},
   "outputs": [],
   "source": [
    "con = sqlite3.connect('data/database.sqlite')"
   ]
  },
  {
   "cell_type": "code",
   "execution_count": 3,
   "id": "479029f7-ea85-490a-9664-99ab68fca49f",
   "metadata": {},
   "outputs": [],
   "source": [
    "get_ratings = \"\"\"SELECT author_id AS user_id, p.podcast_id, rating, p.title AS name, created_at\n",
    "                            FROM podcasts p\n",
    "                            INNER JOIN reviews r\n",
    "                            USING(podcast_id)\n",
    "                            \"\"\"\n",
    "ratings_raw = pd.read_sql(get_ratings, con, parse_dates='created_at')"
   ]
  },
  {
   "cell_type": "code",
   "execution_count": 4,
   "id": "c6c127fc-afdf-4250-9bfa-61f020eaaafd",
   "metadata": {},
   "outputs": [
    {
     "data": {
      "text/html": [
       "<div>\n",
       "<style scoped>\n",
       "    .dataframe tbody tr th:only-of-type {\n",
       "        vertical-align: middle;\n",
       "    }\n",
       "\n",
       "    .dataframe tbody tr th {\n",
       "        vertical-align: top;\n",
       "    }\n",
       "\n",
       "    .dataframe thead th {\n",
       "        text-align: right;\n",
       "    }\n",
       "</style>\n",
       "<table border=\"1\" class=\"dataframe\">\n",
       "  <thead>\n",
       "    <tr style=\"text-align: right;\">\n",
       "      <th></th>\n",
       "      <th>user_id</th>\n",
       "      <th>podcast_id</th>\n",
       "      <th>rating</th>\n",
       "      <th>name</th>\n",
       "      <th>created_at</th>\n",
       "    </tr>\n",
       "  </thead>\n",
       "  <tbody>\n",
       "    <tr>\n",
       "      <th>0</th>\n",
       "      <td>F7E5A318989779D</td>\n",
       "      <td>c61aa81c9b929a66f0c1db6cbe5d8548</td>\n",
       "      <td>5</td>\n",
       "      <td>Backstage at Tilles Center</td>\n",
       "      <td>2018-04-24 12:05:16-07:00</td>\n",
       "    </tr>\n",
       "    <tr>\n",
       "      <th>1</th>\n",
       "      <td>F6BF5472689BD12</td>\n",
       "      <td>c61aa81c9b929a66f0c1db6cbe5d8548</td>\n",
       "      <td>5</td>\n",
       "      <td>Backstage at Tilles Center</td>\n",
       "      <td>2018-05-09 18:14:32-07:00</td>\n",
       "    </tr>\n",
       "    <tr>\n",
       "      <th>2</th>\n",
       "      <td>1AB95B8E6E1309E</td>\n",
       "      <td>ad4f2bf69c72b8db75978423c25f379e</td>\n",
       "      <td>1</td>\n",
       "      <td>TED Talks Daily</td>\n",
       "      <td>2019-06-11 14:53:39-07:00</td>\n",
       "    </tr>\n",
       "    <tr>\n",
       "      <th>3</th>\n",
       "      <td>11BB760AA5DEBD1</td>\n",
       "      <td>ad4f2bf69c72b8db75978423c25f379e</td>\n",
       "      <td>5</td>\n",
       "      <td>TED Talks Daily</td>\n",
       "      <td>2018-05-31 13:08:09-07:00</td>\n",
       "    </tr>\n",
       "    <tr>\n",
       "      <th>4</th>\n",
       "      <td>D86032C8E57D15A</td>\n",
       "      <td>ad4f2bf69c72b8db75978423c25f379e</td>\n",
       "      <td>5</td>\n",
       "      <td>TED Talks Daily</td>\n",
       "      <td>2019-06-19 13:56:05-07:00</td>\n",
       "    </tr>\n",
       "    <tr>\n",
       "      <th>...</th>\n",
       "      <td>...</td>\n",
       "      <td>...</td>\n",
       "      <td>...</td>\n",
       "      <td>...</td>\n",
       "      <td>...</td>\n",
       "    </tr>\n",
       "    <tr>\n",
       "      <th>984400</th>\n",
       "      <td>4C3F6BE3495A23D</td>\n",
       "      <td>a23e18c73fd942fab41bcf6b6a1571da</td>\n",
       "      <td>2</td>\n",
       "      <td>Mile Higher Podcast</td>\n",
       "      <td>2021-10-09 07:10:31-07:00</td>\n",
       "    </tr>\n",
       "    <tr>\n",
       "      <th>984401</th>\n",
       "      <td>938F0A4490CE344</td>\n",
       "      <td>ae44a724e94dcec1616d6e695e6198ba</td>\n",
       "      <td>4</td>\n",
       "      <td>Something Was Wrong</td>\n",
       "      <td>2021-10-09 16:14:02-07:00</td>\n",
       "    </tr>\n",
       "    <tr>\n",
       "      <th>984402</th>\n",
       "      <td>D6CBF74E9B2C7FE</td>\n",
       "      <td>ae44a724e94dcec1616d6e695e6198ba</td>\n",
       "      <td>1</td>\n",
       "      <td>Something Was Wrong</td>\n",
       "      <td>2021-10-09 14:32:49-07:00</td>\n",
       "    </tr>\n",
       "    <tr>\n",
       "      <th>984403</th>\n",
       "      <td>FED395AE84679C4</td>\n",
       "      <td>ae44a724e94dcec1616d6e695e6198ba</td>\n",
       "      <td>5</td>\n",
       "      <td>Something Was Wrong</td>\n",
       "      <td>2021-10-09 11:40:29-07:00</td>\n",
       "    </tr>\n",
       "    <tr>\n",
       "      <th>984404</th>\n",
       "      <td>5058E0A92FF400B</td>\n",
       "      <td>ae44a724e94dcec1616d6e695e6198ba</td>\n",
       "      <td>4</td>\n",
       "      <td>Something Was Wrong</td>\n",
       "      <td>2021-10-09 10:36:35-07:00</td>\n",
       "    </tr>\n",
       "  </tbody>\n",
       "</table>\n",
       "<p>984405 rows × 5 columns</p>\n",
       "</div>"
      ],
      "text/plain": [
       "                user_id                        podcast_id  rating  \\\n",
       "0       F7E5A318989779D  c61aa81c9b929a66f0c1db6cbe5d8548       5   \n",
       "1       F6BF5472689BD12  c61aa81c9b929a66f0c1db6cbe5d8548       5   \n",
       "2       1AB95B8E6E1309E  ad4f2bf69c72b8db75978423c25f379e       1   \n",
       "3       11BB760AA5DEBD1  ad4f2bf69c72b8db75978423c25f379e       5   \n",
       "4       D86032C8E57D15A  ad4f2bf69c72b8db75978423c25f379e       5   \n",
       "...                 ...                               ...     ...   \n",
       "984400  4C3F6BE3495A23D  a23e18c73fd942fab41bcf6b6a1571da       2   \n",
       "984401  938F0A4490CE344  ae44a724e94dcec1616d6e695e6198ba       4   \n",
       "984402  D6CBF74E9B2C7FE  ae44a724e94dcec1616d6e695e6198ba       1   \n",
       "984403  FED395AE84679C4  ae44a724e94dcec1616d6e695e6198ba       5   \n",
       "984404  5058E0A92FF400B  ae44a724e94dcec1616d6e695e6198ba       4   \n",
       "\n",
       "                              name                created_at  \n",
       "0       Backstage at Tilles Center 2018-04-24 12:05:16-07:00  \n",
       "1       Backstage at Tilles Center 2018-05-09 18:14:32-07:00  \n",
       "2                  TED Talks Daily 2019-06-11 14:53:39-07:00  \n",
       "3                  TED Talks Daily 2018-05-31 13:08:09-07:00  \n",
       "4                  TED Talks Daily 2019-06-19 13:56:05-07:00  \n",
       "...                            ...                       ...  \n",
       "984400         Mile Higher Podcast 2021-10-09 07:10:31-07:00  \n",
       "984401         Something Was Wrong 2021-10-09 16:14:02-07:00  \n",
       "984402         Something Was Wrong 2021-10-09 14:32:49-07:00  \n",
       "984403         Something Was Wrong 2021-10-09 11:40:29-07:00  \n",
       "984404         Something Was Wrong 2021-10-09 10:36:35-07:00  \n",
       "\n",
       "[984405 rows x 5 columns]"
      ]
     },
     "execution_count": 4,
     "metadata": {},
     "output_type": "execute_result"
    }
   ],
   "source": [
    "ratings_raw"
   ]
  },
  {
   "cell_type": "markdown",
   "id": "7d639720-3b86-4472-a0de-53ecd57874e8",
   "metadata": {},
   "source": [
    "Next we create a table of podcasts with some rating statistics: number of ratings, mean rating, and the years of the first and the last rating."
   ]
  },
  {
   "cell_type": "code",
   "execution_count": 5,
   "id": "3233f356-8706-47bf-8a2a-1e39f2bb72d5",
   "metadata": {},
   "outputs": [],
   "source": [
    "def extract_podcasts(ratings):\n",
    "    'Get the podcasts with rating count, rating mean and rating years.'\n",
    "    ratings_copy = ratings.copy()\n",
    "    return (ratings_copy.groupby('podcast_id', as_index=False)\n",
    "                       .agg(\n",
    "                        name = ('name', 'first'),\n",
    "                        rating_count = ('rating', 'count'),\n",
    "                        rating_mean = ('rating', 'mean'),\n",
    "                        earliest_rating_year = ('created_at', lambda c: c.min().year),\n",
    "                        latest_rating_year = ('created_at', lambda c: c.max().year),\n",
    "                       )\n",
    "           )"
   ]
  },
  {
   "cell_type": "code",
   "execution_count": 6,
   "id": "06a5ae47-9386-4f76-8b93-773547f06dff",
   "metadata": {},
   "outputs": [
    {
     "data": {
      "text/html": [
       "<div>\n",
       "<style scoped>\n",
       "    .dataframe tbody tr th:only-of-type {\n",
       "        vertical-align: middle;\n",
       "    }\n",
       "\n",
       "    .dataframe tbody tr th {\n",
       "        vertical-align: top;\n",
       "    }\n",
       "\n",
       "    .dataframe thead th {\n",
       "        text-align: right;\n",
       "    }\n",
       "</style>\n",
       "<table border=\"1\" class=\"dataframe\">\n",
       "  <thead>\n",
       "    <tr style=\"text-align: right;\">\n",
       "      <th></th>\n",
       "      <th>podcast_id</th>\n",
       "      <th>name</th>\n",
       "      <th>rating_count</th>\n",
       "      <th>rating_mean</th>\n",
       "      <th>earliest_rating_year</th>\n",
       "      <th>latest_rating_year</th>\n",
       "    </tr>\n",
       "  </thead>\n",
       "  <tbody>\n",
       "    <tr>\n",
       "      <th>0</th>\n",
       "      <td>a00018b54eb342567c94dacfb2a3e504</td>\n",
       "      <td>Scaling Global</td>\n",
       "      <td>1</td>\n",
       "      <td>5.000000</td>\n",
       "      <td>2017</td>\n",
       "      <td>2017</td>\n",
       "    </tr>\n",
       "    <tr>\n",
       "      <th>1</th>\n",
       "      <td>a00043d34e734b09246d17dc5d56f63c</td>\n",
       "      <td>Cornerstone Baptist Church of Orlando</td>\n",
       "      <td>1</td>\n",
       "      <td>5.000000</td>\n",
       "      <td>2019</td>\n",
       "      <td>2019</td>\n",
       "    </tr>\n",
       "    <tr>\n",
       "      <th>2</th>\n",
       "      <td>a0004b1ef445af9dc84dad1e7821b1e3</td>\n",
       "      <td>Mystery: Dancing in the Dark</td>\n",
       "      <td>1</td>\n",
       "      <td>1.000000</td>\n",
       "      <td>2011</td>\n",
       "      <td>2011</td>\n",
       "    </tr>\n",
       "    <tr>\n",
       "      <th>3</th>\n",
       "      <td>a00071f9aaae9ac725c3a586701abf4d</td>\n",
       "      <td>KTs Money Matters</td>\n",
       "      <td>4</td>\n",
       "      <td>5.000000</td>\n",
       "      <td>2018</td>\n",
       "      <td>2018</td>\n",
       "    </tr>\n",
       "    <tr>\n",
       "      <th>4</th>\n",
       "      <td>a000aa69852b276565c4f5eb9cdd999b</td>\n",
       "      <td>Speedway Soccer</td>\n",
       "      <td>15</td>\n",
       "      <td>5.000000</td>\n",
       "      <td>2018</td>\n",
       "      <td>2020</td>\n",
       "    </tr>\n",
       "    <tr>\n",
       "      <th>...</th>\n",
       "      <td>...</td>\n",
       "      <td>...</td>\n",
       "      <td>...</td>\n",
       "      <td>...</td>\n",
       "      <td>...</td>\n",
       "      <td>...</td>\n",
       "    </tr>\n",
       "    <tr>\n",
       "      <th>46688</th>\n",
       "      <td>fffe3f208a56dfecfaf6d0a7f8399d63</td>\n",
       "      <td>How Travel Writers Self-Publish</td>\n",
       "      <td>4</td>\n",
       "      <td>5.000000</td>\n",
       "      <td>2019</td>\n",
       "      <td>2020</td>\n",
       "    </tr>\n",
       "    <tr>\n",
       "      <th>46689</th>\n",
       "      <td>fffeb7d6d05f2b4c600fbebc828ca656</td>\n",
       "      <td>TEDDY &amp; THE EMPRESS:  Cooking the Queens</td>\n",
       "      <td>43</td>\n",
       "      <td>4.837209</td>\n",
       "      <td>2017</td>\n",
       "      <td>2021</td>\n",
       "    </tr>\n",
       "    <tr>\n",
       "      <th>46690</th>\n",
       "      <td>ffff5db4b5db2d860c49749e5de8a36d</td>\n",
       "      <td>Frankenstein, or the Modern Prometheus</td>\n",
       "      <td>8</td>\n",
       "      <td>4.750000</td>\n",
       "      <td>2011</td>\n",
       "      <td>2021</td>\n",
       "    </tr>\n",
       "    <tr>\n",
       "      <th>46691</th>\n",
       "      <td>ffff66f98c1adfc8d0d6c41bb8facfd0</td>\n",
       "      <td>Who’s Bringing Wine?</td>\n",
       "      <td>5</td>\n",
       "      <td>5.000000</td>\n",
       "      <td>2018</td>\n",
       "      <td>2018</td>\n",
       "    </tr>\n",
       "    <tr>\n",
       "      <th>46692</th>\n",
       "      <td>ffff923482740bc21a0fe184865ec2e2</td>\n",
       "      <td>TEFL Waffle</td>\n",
       "      <td>2</td>\n",
       "      <td>5.000000</td>\n",
       "      <td>2018</td>\n",
       "      <td>2019</td>\n",
       "    </tr>\n",
       "  </tbody>\n",
       "</table>\n",
       "<p>46693 rows × 6 columns</p>\n",
       "</div>"
      ],
      "text/plain": [
       "                             podcast_id  \\\n",
       "0      a00018b54eb342567c94dacfb2a3e504   \n",
       "1      a00043d34e734b09246d17dc5d56f63c   \n",
       "2      a0004b1ef445af9dc84dad1e7821b1e3   \n",
       "3      a00071f9aaae9ac725c3a586701abf4d   \n",
       "4      a000aa69852b276565c4f5eb9cdd999b   \n",
       "...                                 ...   \n",
       "46688  fffe3f208a56dfecfaf6d0a7f8399d63   \n",
       "46689  fffeb7d6d05f2b4c600fbebc828ca656   \n",
       "46690  ffff5db4b5db2d860c49749e5de8a36d   \n",
       "46691  ffff66f98c1adfc8d0d6c41bb8facfd0   \n",
       "46692  ffff923482740bc21a0fe184865ec2e2   \n",
       "\n",
       "                                           name  rating_count  rating_mean  \\\n",
       "0                                Scaling Global             1     5.000000   \n",
       "1         Cornerstone Baptist Church of Orlando             1     5.000000   \n",
       "2                  Mystery: Dancing in the Dark             1     1.000000   \n",
       "3                             KTs Money Matters             4     5.000000   \n",
       "4                               Speedway Soccer            15     5.000000   \n",
       "...                                         ...           ...          ...   \n",
       "46688           How Travel Writers Self-Publish             4     5.000000   \n",
       "46689  TEDDY & THE EMPRESS:  Cooking the Queens            43     4.837209   \n",
       "46690    Frankenstein, or the Modern Prometheus             8     4.750000   \n",
       "46691                      Who’s Bringing Wine?             5     5.000000   \n",
       "46692                               TEFL Waffle             2     5.000000   \n",
       "\n",
       "       earliest_rating_year  latest_rating_year  \n",
       "0                      2017                2017  \n",
       "1                      2019                2019  \n",
       "2                      2011                2011  \n",
       "3                      2018                2018  \n",
       "4                      2018                2020  \n",
       "...                     ...                 ...  \n",
       "46688                  2019                2020  \n",
       "46689                  2017                2021  \n",
       "46690                  2011                2021  \n",
       "46691                  2018                2018  \n",
       "46692                  2018                2019  \n",
       "\n",
       "[46693 rows x 6 columns]"
      ]
     },
     "execution_count": 6,
     "metadata": {},
     "output_type": "execute_result"
    }
   ],
   "source": [
    "podcasts_raw = extract_podcasts(ratings_raw)\n",
    "podcasts_raw"
   ]
  },
  {
   "cell_type": "markdown",
   "id": "7efc7eb7-9cce-4117-98e1-948f63dccf0c",
   "metadata": {},
   "source": [
    "## Data Exploration and Cleaning\n",
    "\n",
    "In this section we will deal with some issues in the data and prepare it for the recommender system below."
   ]
  },
  {
   "cell_type": "markdown",
   "id": "80c28690-deca-4d43-859a-933c9606bea0",
   "metadata": {},
   "source": [
    "### How far back do the reviews go?\n",
    "\n",
    "A couple of ratings go all the way back to 2005 although most of them only go back to 2018. For many popular podcasts the reviews start in 2019.\n",
    "\n",
    "When I asked the curator of the dataset on Kaggle why the reviews go much further back for some podcasts than for most others, he clarified that the reason is that the Apple API only gives access the latest 500 reviews of each podcast. This explains why for popular podcasts those 500 reviews only go back a couple of months, but for others they go back many years.\n",
    "\n",
    "Inspecting the dates of the reviews of some popular podcasts, I found no gaps since 2019. This confirms that the reviews have been downloaded without interruption since then."
   ]
  },
  {
   "cell_type": "markdown",
   "id": "9fb12288-7bea-46d1-b28f-585120463d6f",
   "metadata": {},
   "source": [
    "### Curating the Ratings\n",
    "\n",
    "We need to take care of the following complications:\n",
    "- Some users have left a suspiciously high number of reviews. Indeed, looking at the content of their reviews they do not look genuine at all: they repeat the same text hundreds of times, with slight variations. We will remove all the users with a rating volume beyond a specific threshold to weed out bots. We set the threshold at 135 reviews by inspecting the content of the reviews and making a judgment call.\n",
    "- It appears that some podcasts are no longer active, given that their latest review was made years ago. We need to decide whether we want to remove these seemingly inactive podcasts. While we don't want to recommend podcasts that don't exist anymore, their reviews can still help the collaborative filtering model. We will simply remove podcasts which have zero reviews made on or after 2020. Another option would be to include old podcasts in the training of the recommender system but skip them when making recommendations.\n",
    "- It turns out that there are repeat reviews in the data, meaning that some users left multiple reviews for the same podcast. They are probably just edited or updated reviews. Consequently, we will only consider the latest rating for each user-podcast pairing.\n",
    "- For the collaborative filtering approach to work, the users need to have rated multiple podcasts and, similarly, the podcasts need to have been rated by multiple users. To ensure this, we need to remove all users and podcasts with a number of reviews below a certain threshold. For example, we could remove all users with under 3 reviews and all podcasts with under 15 reviews. We have to be careful here: removing some users will reduce the number of reviews for some podcasts, which might push some podcasts below the threshold. In turn, removing those podcasts might push some users below the threshold. We need to keep doing this back and forth until the ratings DataFrame stops changing.\n",
    "\n",
    "We will write a separate function to deal with each point."
   ]
  },
  {
   "cell_type": "code",
   "execution_count": 7,
   "id": "aba53731-83d1-46da-894b-f5fa7b824204",
   "metadata": {},
   "outputs": [],
   "source": [
    "def remove_suspicious_users(ratings, max_reviews=135):\n",
    "    'Remove users with suspiciously high review count.'\n",
    "    mask = ratings.groupby('user_id')['podcast_id'].transform('count') <= max_reviews\n",
    "    return ratings[mask]\n",
    "\n",
    "def remove_inactive_podcasts(ratings, latest_rating_year=2020):\n",
    "    'Remove podcasts with no reviews at or after latest_rating_year.'\n",
    "    active = (ratings.groupby('podcast_id')['created_at']\n",
    "                     .transform(lambda c: c.max().year)\n",
    "                    >= latest_rating_year\n",
    "               )\n",
    "    return ratings[active]\n",
    "\n",
    "def keep_only_latest_rating(ratings):\n",
    "    'Remove repeat reviews, keeping the latest. Also sorts the ratings by date.'\n",
    "    return ratings.sort_values(by='created_at', ascending=False).drop_duplicates(subset=['podcast_id', 'user_id'])\n",
    "    \n",
    "def remove_low_rating_users_and_podcasts(ratings, min_user_reviews=3, min_podcast_reviews=15):\n",
    "    'Alternate between removing podcasts and users with insufficient reviews until there are none left.'\n",
    "    result = ratings.copy()\n",
    "    while result.shape:\n",
    "        previous_shape = result.shape\n",
    "        mask = result.groupby('podcast_id')['user_id'].transform('count') >= min_podcast_reviews\n",
    "        result = result[mask]\n",
    "        mask = result.groupby('user_id')['podcast_id'].transform('count') >= min_user_reviews\n",
    "        result = result[mask]\n",
    "        if result.shape == previous_shape:\n",
    "            return result"
   ]
  },
  {
   "cell_type": "code",
   "execution_count": 8,
   "id": "b60450ae-57a9-46cf-8295-70d1f598d7d3",
   "metadata": {},
   "outputs": [],
   "source": [
    "ratings = remove_suspicious_users(ratings_raw)\n",
    "ratings = remove_inactive_podcasts(ratings)\n",
    "ratings = keep_only_latest_rating(ratings)\n",
    "ratings = remove_low_rating_users_and_podcasts(ratings)"
   ]
  },
  {
   "cell_type": "code",
   "execution_count": 9,
   "id": "abf392a2-2b11-4187-ba22-65120d602fdb",
   "metadata": {},
   "outputs": [
    {
     "data": {
      "text/html": [
       "<div>\n",
       "<style scoped>\n",
       "    .dataframe tbody tr th:only-of-type {\n",
       "        vertical-align: middle;\n",
       "    }\n",
       "\n",
       "    .dataframe tbody tr th {\n",
       "        vertical-align: top;\n",
       "    }\n",
       "\n",
       "    .dataframe thead th {\n",
       "        text-align: right;\n",
       "    }\n",
       "</style>\n",
       "<table border=\"1\" class=\"dataframe\">\n",
       "  <thead>\n",
       "    <tr style=\"text-align: right;\">\n",
       "      <th></th>\n",
       "      <th>user_id</th>\n",
       "      <th>podcast_id</th>\n",
       "      <th>rating</th>\n",
       "      <th>name</th>\n",
       "      <th>created_at</th>\n",
       "    </tr>\n",
       "  </thead>\n",
       "  <tbody>\n",
       "    <tr>\n",
       "      <th>984386</th>\n",
       "      <td>2ED4C4FD5F1740E</td>\n",
       "      <td>a9bdaba5449189a4587793e36ce4f704</td>\n",
       "      <td>5</td>\n",
       "      <td>Going West: True Crime</td>\n",
       "      <td>2021-10-09 16:24:40-07:00</td>\n",
       "    </tr>\n",
       "    <tr>\n",
       "      <th>984402</th>\n",
       "      <td>D6CBF74E9B2C7FE</td>\n",
       "      <td>ae44a724e94dcec1616d6e695e6198ba</td>\n",
       "      <td>1</td>\n",
       "      <td>Something Was Wrong</td>\n",
       "      <td>2021-10-09 14:32:49-07:00</td>\n",
       "    </tr>\n",
       "    <tr>\n",
       "      <th>984376</th>\n",
       "      <td>C0E30B0BB0AA10C</td>\n",
       "      <td>ddd451a18055f0108edf79f8c3c9bf15</td>\n",
       "      <td>5</td>\n",
       "      <td>What If World - Stories for Kids</td>\n",
       "      <td>2021-10-09 07:36:51-07:00</td>\n",
       "    </tr>\n",
       "    <tr>\n",
       "      <th>984301</th>\n",
       "      <td>E220A79CBD5C5AD</td>\n",
       "      <td>b9a8d90ae43232769ecc68d7defb0c38</td>\n",
       "      <td>5</td>\n",
       "      <td>Scared To Death</td>\n",
       "      <td>2021-10-09 03:51:32-07:00</td>\n",
       "    </tr>\n",
       "    <tr>\n",
       "      <th>984316</th>\n",
       "      <td>36B07D3E02D2516</td>\n",
       "      <td>c3f080cc393035a81d4ac7c7bff1c6c1</td>\n",
       "      <td>5</td>\n",
       "      <td>Smash Boom Best</td>\n",
       "      <td>2021-10-09 03:45:35-07:00</td>\n",
       "    </tr>\n",
       "    <tr>\n",
       "      <th>...</th>\n",
       "      <td>...</td>\n",
       "      <td>...</td>\n",
       "      <td>...</td>\n",
       "      <td>...</td>\n",
       "      <td>...</td>\n",
       "    </tr>\n",
       "    <tr>\n",
       "      <th>138992</th>\n",
       "      <td>4A06D17875D08A3</td>\n",
       "      <td>fb3a6b9f12f4d0b050887e91684e68c0</td>\n",
       "      <td>5</td>\n",
       "      <td>EconTalk</td>\n",
       "      <td>2007-04-21 20:49:49-07:00</td>\n",
       "    </tr>\n",
       "    <tr>\n",
       "      <th>50962</th>\n",
       "      <td>4A06D17875D08A3</td>\n",
       "      <td>d2f31ced463510866c6adfbae95d3be2</td>\n",
       "      <td>2</td>\n",
       "      <td>Money Girl's Quick and Dirty Tips for a Richer...</td>\n",
       "      <td>2007-03-31 21:09:12-07:00</td>\n",
       "    </tr>\n",
       "    <tr>\n",
       "      <th>479293</th>\n",
       "      <td>245BC52E7C82EA7</td>\n",
       "      <td>b913c95d304bac8b6cddf9034294eab7</td>\n",
       "      <td>5</td>\n",
       "      <td>PotterCast: The Harry Potter podcast since 2005</td>\n",
       "      <td>2006-10-18 14:14:46-07:00</td>\n",
       "    </tr>\n",
       "    <tr>\n",
       "      <th>479291</th>\n",
       "      <td>39D9B7796AA0A6C</td>\n",
       "      <td>b913c95d304bac8b6cddf9034294eab7</td>\n",
       "      <td>5</td>\n",
       "      <td>PotterCast: The Harry Potter podcast since 2005</td>\n",
       "      <td>2006-05-20 11:18:27-07:00</td>\n",
       "    </tr>\n",
       "    <tr>\n",
       "      <th>202910</th>\n",
       "      <td>BF99560F0BB8F18</td>\n",
       "      <td>cae7b4d90b57e8bae77907092d5e813e</td>\n",
       "      <td>4</td>\n",
       "      <td>All Songs Considered</td>\n",
       "      <td>2005-12-15 04:23:27-07:00</td>\n",
       "    </tr>\n",
       "  </tbody>\n",
       "</table>\n",
       "<p>51015 rows × 5 columns</p>\n",
       "</div>"
      ],
      "text/plain": [
       "                user_id                        podcast_id  rating  \\\n",
       "984386  2ED4C4FD5F1740E  a9bdaba5449189a4587793e36ce4f704       5   \n",
       "984402  D6CBF74E9B2C7FE  ae44a724e94dcec1616d6e695e6198ba       1   \n",
       "984376  C0E30B0BB0AA10C  ddd451a18055f0108edf79f8c3c9bf15       5   \n",
       "984301  E220A79CBD5C5AD  b9a8d90ae43232769ecc68d7defb0c38       5   \n",
       "984316  36B07D3E02D2516  c3f080cc393035a81d4ac7c7bff1c6c1       5   \n",
       "...                 ...                               ...     ...   \n",
       "138992  4A06D17875D08A3  fb3a6b9f12f4d0b050887e91684e68c0       5   \n",
       "50962   4A06D17875D08A3  d2f31ced463510866c6adfbae95d3be2       2   \n",
       "479293  245BC52E7C82EA7  b913c95d304bac8b6cddf9034294eab7       5   \n",
       "479291  39D9B7796AA0A6C  b913c95d304bac8b6cddf9034294eab7       5   \n",
       "202910  BF99560F0BB8F18  cae7b4d90b57e8bae77907092d5e813e       4   \n",
       "\n",
       "                                                     name  \\\n",
       "984386                             Going West: True Crime   \n",
       "984402                                Something Was Wrong   \n",
       "984376                   What If World - Stories for Kids   \n",
       "984301                                    Scared To Death   \n",
       "984316                                    Smash Boom Best   \n",
       "...                                                   ...   \n",
       "138992                                           EconTalk   \n",
       "50962   Money Girl's Quick and Dirty Tips for a Richer...   \n",
       "479293    PotterCast: The Harry Potter podcast since 2005   \n",
       "479291    PotterCast: The Harry Potter podcast since 2005   \n",
       "202910                               All Songs Considered   \n",
       "\n",
       "                      created_at  \n",
       "984386 2021-10-09 16:24:40-07:00  \n",
       "984402 2021-10-09 14:32:49-07:00  \n",
       "984376 2021-10-09 07:36:51-07:00  \n",
       "984301 2021-10-09 03:51:32-07:00  \n",
       "984316 2021-10-09 03:45:35-07:00  \n",
       "...                          ...  \n",
       "138992 2007-04-21 20:49:49-07:00  \n",
       "50962  2007-03-31 21:09:12-07:00  \n",
       "479293 2006-10-18 14:14:46-07:00  \n",
       "479291 2006-05-20 11:18:27-07:00  \n",
       "202910 2005-12-15 04:23:27-07:00  \n",
       "\n",
       "[51015 rows x 5 columns]"
      ]
     },
     "execution_count": 9,
     "metadata": {},
     "output_type": "execute_result"
    }
   ],
   "source": [
    "ratings"
   ]
  },
  {
   "cell_type": "code",
   "execution_count": 10,
   "id": "90f128f7-5550-4679-8ebb-3e7b2a85820b",
   "metadata": {},
   "outputs": [],
   "source": [
    "podcasts = extract_podcasts(ratings)"
   ]
  },
  {
   "cell_type": "code",
   "execution_count": 11,
   "id": "0a138cd5-29f3-4f9f-91e6-6cf2f71745ae",
   "metadata": {},
   "outputs": [
    {
     "data": {
      "text/html": [
       "<div>\n",
       "<style scoped>\n",
       "    .dataframe tbody tr th:only-of-type {\n",
       "        vertical-align: middle;\n",
       "    }\n",
       "\n",
       "    .dataframe tbody tr th {\n",
       "        vertical-align: top;\n",
       "    }\n",
       "\n",
       "    .dataframe thead th {\n",
       "        text-align: right;\n",
       "    }\n",
       "</style>\n",
       "<table border=\"1\" class=\"dataframe\">\n",
       "  <thead>\n",
       "    <tr style=\"text-align: right;\">\n",
       "      <th></th>\n",
       "      <th>podcast_id</th>\n",
       "      <th>name</th>\n",
       "      <th>rating_count</th>\n",
       "      <th>rating_mean</th>\n",
       "      <th>earliest_rating_year</th>\n",
       "      <th>latest_rating_year</th>\n",
       "    </tr>\n",
       "  </thead>\n",
       "  <tbody>\n",
       "    <tr>\n",
       "      <th>245</th>\n",
       "      <td>bc5ddad3898e0973eb541577d1df8004</td>\n",
       "      <td>My Favorite Murder with Karen Kilgariff and Ge...</td>\n",
       "      <td>688</td>\n",
       "      <td>3.228198</td>\n",
       "      <td>2019</td>\n",
       "      <td>2021</td>\n",
       "    </tr>\n",
       "    <tr>\n",
       "      <th>228</th>\n",
       "      <td>bad6c91efdbee814db985c7a65199604</td>\n",
       "      <td>Wow in the World</td>\n",
       "      <td>649</td>\n",
       "      <td>4.648690</td>\n",
       "      <td>2019</td>\n",
       "      <td>2021</td>\n",
       "    </tr>\n",
       "    <tr>\n",
       "      <th>807</th>\n",
       "      <td>f2377a9b0d9a2e0fb05c3dad55759328</td>\n",
       "      <td>Story Pirates</td>\n",
       "      <td>589</td>\n",
       "      <td>4.590832</td>\n",
       "      <td>2016</td>\n",
       "      <td>2021</td>\n",
       "    </tr>\n",
       "    <tr>\n",
       "      <th>334</th>\n",
       "      <td>c3f080cc393035a81d4ac7c7bff1c6c1</td>\n",
       "      <td>Smash Boom Best</td>\n",
       "      <td>470</td>\n",
       "      <td>4.740426</td>\n",
       "      <td>2018</td>\n",
       "      <td>2021</td>\n",
       "    </tr>\n",
       "    <tr>\n",
       "      <th>142</th>\n",
       "      <td>b1a3eb2aa8e82ecbe9c91ed9a963c362</td>\n",
       "      <td>True Crime Obsessed</td>\n",
       "      <td>434</td>\n",
       "      <td>3.679724</td>\n",
       "      <td>2019</td>\n",
       "      <td>2021</td>\n",
       "    </tr>\n",
       "    <tr>\n",
       "      <th>...</th>\n",
       "      <td>...</td>\n",
       "      <td>...</td>\n",
       "      <td>...</td>\n",
       "      <td>...</td>\n",
       "      <td>...</td>\n",
       "      <td>...</td>\n",
       "    </tr>\n",
       "    <tr>\n",
       "      <th>821</th>\n",
       "      <td>f3c3640687112903a1fa5869665682ae</td>\n",
       "      <td>American Ball Tales</td>\n",
       "      <td>15</td>\n",
       "      <td>4.933333</td>\n",
       "      <td>2019</td>\n",
       "      <td>2020</td>\n",
       "    </tr>\n",
       "    <tr>\n",
       "      <th>301</th>\n",
       "      <td>c0f3a638b96dd2482255211827f1a95a</td>\n",
       "      <td>Dreams In Drive</td>\n",
       "      <td>15</td>\n",
       "      <td>5.000000</td>\n",
       "      <td>2016</td>\n",
       "      <td>2021</td>\n",
       "    </tr>\n",
       "    <tr>\n",
       "      <th>306</th>\n",
       "      <td>c149f512e2e103090a77b32d42511479</td>\n",
       "      <td>Cantina Cast</td>\n",
       "      <td>15</td>\n",
       "      <td>4.400000</td>\n",
       "      <td>2013</td>\n",
       "      <td>2019</td>\n",
       "    </tr>\n",
       "    <tr>\n",
       "      <th>202</th>\n",
       "      <td>b76c794eb4bb5b73748bd8e5dc8052b8</td>\n",
       "      <td>Congeria</td>\n",
       "      <td>15</td>\n",
       "      <td>4.200000</td>\n",
       "      <td>2018</td>\n",
       "      <td>2020</td>\n",
       "    </tr>\n",
       "    <tr>\n",
       "      <th>800</th>\n",
       "      <td>f17f50670f7ba891f1b147687649da29</td>\n",
       "      <td>OFFSHORE</td>\n",
       "      <td>15</td>\n",
       "      <td>4.733333</td>\n",
       "      <td>2016</td>\n",
       "      <td>2018</td>\n",
       "    </tr>\n",
       "  </tbody>\n",
       "</table>\n",
       "<p>936 rows × 6 columns</p>\n",
       "</div>"
      ],
      "text/plain": [
       "                           podcast_id  \\\n",
       "245  bc5ddad3898e0973eb541577d1df8004   \n",
       "228  bad6c91efdbee814db985c7a65199604   \n",
       "807  f2377a9b0d9a2e0fb05c3dad55759328   \n",
       "334  c3f080cc393035a81d4ac7c7bff1c6c1   \n",
       "142  b1a3eb2aa8e82ecbe9c91ed9a963c362   \n",
       "..                                ...   \n",
       "821  f3c3640687112903a1fa5869665682ae   \n",
       "301  c0f3a638b96dd2482255211827f1a95a   \n",
       "306  c149f512e2e103090a77b32d42511479   \n",
       "202  b76c794eb4bb5b73748bd8e5dc8052b8   \n",
       "800  f17f50670f7ba891f1b147687649da29   \n",
       "\n",
       "                                                  name  rating_count  \\\n",
       "245  My Favorite Murder with Karen Kilgariff and Ge...           688   \n",
       "228                                   Wow in the World           649   \n",
       "807                                      Story Pirates           589   \n",
       "334                                    Smash Boom Best           470   \n",
       "142                                True Crime Obsessed           434   \n",
       "..                                                 ...           ...   \n",
       "821                                American Ball Tales            15   \n",
       "301                                    Dreams In Drive            15   \n",
       "306                                       Cantina Cast            15   \n",
       "202                                           Congeria            15   \n",
       "800                                           OFFSHORE            15   \n",
       "\n",
       "     rating_mean  earliest_rating_year  latest_rating_year  \n",
       "245     3.228198                  2019                2021  \n",
       "228     4.648690                  2019                2021  \n",
       "807     4.590832                  2016                2021  \n",
       "334     4.740426                  2018                2021  \n",
       "142     3.679724                  2019                2021  \n",
       "..           ...                   ...                 ...  \n",
       "821     4.933333                  2019                2020  \n",
       "301     5.000000                  2016                2021  \n",
       "306     4.400000                  2013                2019  \n",
       "202     4.200000                  2018                2020  \n",
       "800     4.733333                  2016                2018  \n",
       "\n",
       "[936 rows x 6 columns]"
      ]
     },
     "execution_count": 11,
     "metadata": {},
     "output_type": "execute_result"
    }
   ],
   "source": [
    "podcasts.sort_values(by='rating_count', ascending=False)"
   ]
  },
  {
   "cell_type": "markdown",
   "id": "535040c5-4453-46ec-8058-adac9514424b",
   "metadata": {},
   "source": [
    "Out of the 46,693 podcasts we started with, we are left with 936. Unfortunately, it is inevitable that we have to discard a large fraction of the podcasts because most of them have only a few reviews on Apple Podcasts. Consider the fact that more than a fourth of the podcasts (13,922 to  be  precise) had only a *single review*. More that half of the podcasts (a total of 25,104) had only up to 3 reviews!\n",
    "\n",
    "That said, it's worth noting that there are actually as many as 8323 podcasts with at least 15 ratings. However, a sizable portion of the users leaving those ratings had to be removed because they only rated one or two podcasts in total (and of course removing some podcasts led to having to remove more users and so on). Thus, this is how we are left with just 936 podcasts.\n",
    "\n",
    "The remaining ratings are still sufficient to yield interesting results, though!"
   ]
  },
  {
   "cell_type": "markdown",
   "id": "d264d61b-42d3-461a-a77f-1d9f5b73dadb",
   "metadata": {},
   "source": [
    "The minimum threshold of ratings for users and podcasts is also reflected in the **density of the ratings matrix**. The so called *ratings matrix* contains all the ratings such that each row corresponds to one user and each column corresponds to one podcast. If there is a particular user hasn't rated a particular podcast, the corresponding entry (where the user row and podcast column meet) is simply $0$. Furthermore, the *density* of the ratings matrix is the percentage of non-zero entries. In other words, the density is the percentage of user-podcast pairs for which a rating exists in the dataset."
   ]
  },
  {
   "cell_type": "code",
   "execution_count": 12,
   "id": "2f5def96-7ff3-41db-97bf-700d15f5b213",
   "metadata": {},
   "outputs": [],
   "source": [
    "def compute_density(ratings):\n",
    "    n_ratings = ratings.shape[0]\n",
    "    n_podcasts = ratings['podcast_id'].nunique()\n",
    "    n_users = ratings['user_id'].nunique()\n",
    "    return n_ratings / (n_podcasts * n_users)"
   ]
  },
  {
   "cell_type": "code",
   "execution_count": 13,
   "id": "9283d672-3697-489d-a437-9c82ce348f2e",
   "metadata": {},
   "outputs": [
    {
     "name": "stdout",
     "output_type": "stream",
     "text": [
      "The density of the curated rating matrix is 0.45%, while the density of the original rating matrix is 0.0028%.\n"
     ]
    }
   ],
   "source": [
    "print(f'The density of the curated rating matrix is {compute_density(ratings) * 100:.2f}%, while the density of the original rating matrix is {compute_density(ratings_raw) * 100:.4f}%.')"
   ]
  },
  {
   "cell_type": "markdown",
   "id": "64246647-0279-4697-b800-1a1e5c46c3e2",
   "metadata": {},
   "source": [
    "We went from 755,438 users to 12,212 users after cleaning up the data and discarding users and podcasts with too few reviews.\n",
    "\n",
    "Unfortunately, the vast majority of users left only a single review (in this dataset at least). This is probably at least partly due to the fact that many popular podcasts are missing and even for those included the reviews go back only three years. However, even taking this into account, it is conceivable that most people listen to fewer podcasts than Netflix users watch different shows and movies, for example. There is also more friction (more time and steps involved) for leaving a review on Apple Podcasts than rating a show on Netflix, again as an example."
   ]
  },
  {
   "cell_type": "markdown",
   "id": "5014ee1a-f47f-4033-a54c-52276015b7cf",
   "metadata": {
    "tags": []
   },
   "source": [
    "## Implicit Recommender System"
   ]
  },
  {
   "cell_type": "markdown",
   "id": "bcc799cb-0293-40ea-b3e9-50d365dfc92f",
   "metadata": {},
   "source": [
    "It turns out that the overwhelming majority of the ratings are 5 star ratings. It appears that most users do not go out of their way to give a negative rating unless they really dislike a show  The following bar chart shows the frequency of each star rating in the curated ratings table. The situation is even more skewed in favor of 5 star ratings in the raw ratings data."
   ]
  },
  {
   "cell_type": "code",
   "execution_count": 14,
   "id": "8e0ab1e5-35f7-47e0-8bf4-01a88ef85892",
   "metadata": {},
   "outputs": [
    {
     "data": {
      "image/png": "[encoded data removed]",
      "text/plain": [
       "<Figure size 864x288 with 2 Axes>"
      ]
     },
     "metadata": {
      "needs_background": "light"
     },
     "output_type": "display_data"
    }
   ],
   "source": [
    "fig, (ax0, ax1) = plt.subplots(1, 2, figsize=(12, 4))\n",
    "\n",
    "ax0.set_title('Star Ratings Before Curating')\n",
    "ax0.bar(ratings_raw['rating'].value_counts().index, ratings_raw['rating'].value_counts().values)\n",
    "ax1.set_title('Star Ratings After Curating ')\n",
    "ax1.bar(ratings['rating'].value_counts().index, ratings['rating'].value_counts().values);"
   ]
  },
  {
   "cell_type": "markdown",
   "id": "f0b09939-c27c-40da-9f7a-67496474fb7f",
   "metadata": {},
   "source": [
    "### Why Implicit?\n",
    "\n",
    "When I started this project I intended to use a model which tries to predict the *specific star rating* a user would give to \"unseen\" items, in order to recommend the item with the highest predicted rating. This is how **explicit recommender systems** work, which are trained on *explicit* user feedback (in this case, star ratings). However, the extreme imbalance in the ratings suggests that the explicit recommender system approach might not be appropriate here.\n",
    "\n",
    "First of all, there is a well-known issue with imbalanced data which can be illustrated as follows. The simple baseline model which predicts that every user will rate every podcast with 5 stars would have a high accuracy, because it would be right almost all of the time. That said, this is not a big deal and can be corrected by choosing a more appropriate metric than plain accuracy.\n",
    "\n",
    "The deeper concern in this case is the **reason behind the class imbalance**. It appears that that most users simply stop listening to a podcast they don't like without bothering to leave a negative review. Not only that, but people clearly don't just pick podcasts at random to listen to. Instead, there is a pre-selection: they follow a friend's recommendation, seek out podcasts on a particular topic or featuring a particular guest, and so on. Needless to say, users are unlikely to leave a review for a podcast they never listened to (although I am sure that a handful of people do).\n",
    "\n",
    "All of this is to say:\n",
    "- In explicit recommender systems missing ratings are viewed simply as missing information. However, it appears that there actually *is* some information given by the fact that a podcast wasn't rated by a user. Maybe we should think of missing ratings as suggesting a *negative preference*, but assigning *low confidence* to that preference. Some reasons why a missing rating potentially reveals a negative preference were given above. Namely, users are less likely to rate a podcast they don't like and many are even unlikely to listen to it in the first place. On the other hand, the confidence in this negative preference is low because the rating might be missing for a variety of other reasons. The most likely reason is that the user isn't even aware of that particular podcast's existence.\n",
    "- Focusing mostly on the precise ratings (1 to 5 stars) is of limited value because users seem to be using the stars mostly to give a \"thumbs up\" (5 stars).\n",
    "\n",
    "It turns out that there is an approach which seems to be perfectly suited to address the two issues above: **implicit recommender systems**. They are called implicit because they usually do not use (explicit) feedback given by the users. Instead they infer the preferences of users from their activity, such as how often a user has listened to a song on Spotify, or if a user has watched the entirety of a movie on Netflix. The fundamental change from explicit to implicit systems is that instead of giving *ratings*, users have *preferences* and those preferences are known to us with a certain *confidence*. What this allows us to do is to interpret the absence of activity (user didn't watch a particular movie) as a negative preference, but with low confidence.\n",
    "\n",
    "Unfortunately, we don't have access to user activity, but the ratings (which are explicit feedback) can be made \"implicit\" with the following interpretation: high ratings (4 or 5 stars) correspond to positive preferences with high confidence, while missing ratings and all lower ratings (1 to 3 stars) correspond to negative preferences with low confidence. It is possible to treat low ratings separately from missing ratings but this doesn't seem to improve the results, maybe due to the low frequency of low ratings."
   ]
  },
  {
   "cell_type": "markdown",
   "id": "0347b710-3f57-452c-9f94-0f739618f5b0",
   "metadata": {},
   "source": [
    "### Alternating Least Squares\n",
    "\n",
    "We will use the `implicit`, a very fast recommender library written in Cython by Ben Frederickson. Specifically, we will use the **Alternating Least Squares** algorithm, or ALS. The ALS algorithm for implicit recommenders was introduced in [this paper](http://yifanhu.net/PUB/cf.pdf) by Hu, Koren and Volinsky. I will not go into too much detail here, but a general explanation is outlined below. In addition to the original paper, I recommend reading [this](https://jessesw.com/Rec-System/) blog post, in which the algorithm is implemented in Python (although the implicit library is actually used for speed).\n",
    "\n",
    "Here is a brief overview of the model we will use: Each user $u$ is assumed to have a **preference** $p_{ui}$ for podcast $i$ and we want to find **latent factors** $x_u$ and $y_i$ such that their inner product approximates the preference: $p_{ui} \\approx x_u\\cdot y_i$. More precisely, we want to find $x_u$ and $y_i$ which minimize the following cost function:\n",
    "$$\n",
    "\\sum_{u,i} c_{ui}(p_{ui} - x_u\\cdot y_i)^2 + \\lambda \\left(\\sum_u \\|x_u\\|^2 + \\sum_i \\|y_i\\|^2\\right)\n",
    "$$\n",
    "\n",
    "The weights $c_{ui}$ are the **confidence** that we have in the respective preference $p_{ui}$. The higher the confidence, the more importance we give to approximating the particular preference $p_{ui}$ by $x_u\\cdot y_i$. The summands multiplied by $\\lambda$ are there to avoid overfitting.\n",
    "\n",
    "If we hold constant the user vectors $x_u$, the cost function is quadratic in the podcast vectors $y_i$ and can be minimized efficiently. The same is true swapping $x_u$ and $y_i$. This where the Alternating Least Squares trick comes in: First compute the $y_i$ which minimize the cost function with $x_u$ held constant. Then fix $y_i$ at that (provisional) minimum and in turn find $x_u$ minimizing the resulting cost function. Amazingly, simply doing this back and forth several times yields pretty good results. "
   ]
  },
  {
   "cell_type": "markdown",
   "id": "4c8224c1-b8a4-45e7-bf36-6cecff4cb0ac",
   "metadata": {},
   "source": [
    "### The Implicit Matrix\n",
    "\n",
    "In order to feed our data to the implicit ALS model, we need to transform our table of explicit ratings into a matrix of implicit data. The entries of the matrix need to incorporate both the confidence factors $c_{ui}$ and the preference factors $p_{ui}$.\n",
    "\n",
    "In order to construct the matrix correctly, we need to know which input the model `implicit.AlternatingLeastSquares` expects. We feed the ALS model a single matrix, which then (internally) deduces preferences and confidence from that single matrix. If there is a positive entry at a position $(u,i)$, this is taken to mean that $p_{ui} = 1$ (positive preference), otherwise $p_{ui} = 0$ (negative entries). The precise values of the entries are also important: The element at position $(u,i)$ equals the confidence $c_{ui}$, after adding 1 to make sure that the confidence is at least 1 for all $(u,i)$ (if the confidence at some point were 0 the preference $p_{ui}$ would be irrelevant in the cost function, which we want to avoid in the implicit setting). \n",
    "\n",
    "In light of the above, it's clear that our implicit matrix needs strictly positive entries for each pair $(u,i)$ for which the user $u$ gave the podcast $i$ a high ratings, and all other entries should be set to 0. Marking low ratings (1 or 2 stars, say) with negative entries in the matrix did not help much when I tried it, so we will avoid this. (That would mean a higher confidence in the negative preference for low ratings, as opposed to missing ratings.)\n",
    "\n",
    "Here is what we will do: The implicit matrix will have a 1 at every position corresponding to a high rating (4 or 5 stars) and a 0 everywhere else. There is nothing special about the value 1, which can be changed later to any other number (by simply multiplying the matrix by that number). Note that most entries are 0, given that most users have not left reviews for most podcasts. In other words, the matrix will have a **high sparsity** (low density). This is why it makes sense to use a `scipy` sparse matrix instead of a NumPy array."
   ]
  },
  {
   "cell_type": "code",
   "execution_count": 15,
   "id": "75a4a934-62ff-4641-a055-ed786f38eb57",
   "metadata": {},
   "outputs": [],
   "source": [
    "def make_implicit(ratings, threshold=4):\n",
    "    '''Replace star rating (1 to 5) by a +1 if rating >= threshold\n",
    "    and if rating < threshold either replace it by a -1 (if negative is True)\n",
    "    or remove it (if negative is False).\n",
    "    Return a csr sparse matrix with the ratings (users rows and podcasts cols)\n",
    "    and two lists: one with the user_ids corresponding to the rows and\n",
    "    one with the podcast names corresponding to the columns.\n",
    "    '''\n",
    "    positive = ratings['rating'] >= threshold\n",
    "    implicit_ratings = ratings.loc[positive].copy()\n",
    "    implicit_ratings['rating'] = 1\n",
    "    \n",
    "    # Remove low rating users and podcasts again\n",
    "    implicit_ratings = remove_low_rating_users_and_podcasts(implicit_ratings, 2, 5)\n",
    "    \n",
    "    user_idx = implicit_ratings['user_id'].astype('category').cat.codes\n",
    "    podcast_idx = implicit_ratings['podcast_id'].astype('category').cat.codes\n",
    "    # The codes simply number the user_id and podcast_id in alphabetical order\n",
    "    # We keep track of the order of the users and podcasts with the following arrays\n",
    "    user_ids = implicit_ratings['user_id'].sort_values().unique()\n",
    "    podcast_names = implicit_ratings.sort_values(by='podcast_id')['name'].unique()\n",
    "    \n",
    "    implicit_ratings = sparse.csr_matrix((implicit_ratings['rating'], (user_idx, podcast_idx)))\n",
    "    return implicit_ratings, user_ids, podcast_names\n",
    "    "
   ]
  },
  {
   "cell_type": "code",
   "execution_count": 16,
   "id": "712b6fa0-3094-4791-b676-c7abb15b89ba",
   "metadata": {},
   "outputs": [
    {
     "data": {
      "text/plain": [
       "(10607, 933)"
      ]
     },
     "execution_count": 16,
     "metadata": {},
     "output_type": "execute_result"
    }
   ],
   "source": [
    "implicit_ratings, user_ids, podcast_names = make_implicit(ratings)\n",
    "implicit_ratings.shape"
   ]
  },
  {
   "cell_type": "markdown",
   "id": "71622a94-0ca5-4e82-8948-f4237b8b812a",
   "metadata": {},
   "source": [
    "### Training and Evaluation\n",
    "\n",
    "At last, we are ready to train our recommender!\n",
    "\n",
    "To evaluate the performance of a recommender we need to be able to decide if recommendations are relevant. However, if the system simply recommends podcasts that it already \"knows\" the user likes (positive entry in the implicit matrix), this doesn't reflect how well the system can make recommendations for podcasts the user hasn't shown a preference for yet (0 in the implicit matrix).\n",
    "\n",
    "To address this, we will turn one positive entry into a 0 entry for each user. In other words, for each user we will forget one podcast the user rated highly. Then we train the recommender system on this modified implicit dataset (called the **training set**). Next, we let the model make one recommendation per user, but require that for each user the podcast recommended has not already been \"liked\" by that user in the training set. Finally, we compute the **precision** of the recommender: the fraction of the users for which the recommendation is precisely the podcast we \"forgot\" for that user when creating the training set. Recall that we know those \"forgotten\" podcasts to be relevant recommendations, because the user gave them a high rating (which we omitted in the training set).\n",
    "\n",
    "Note that recommendations other than the one positive preference we omitted (for each user) might also be relevant, but there is no way for us to verify that with our data. In light of this, the precision might in fact underestimate how often the recommendations are relevant.\n",
    "\n",
    "The (simple) precision is not the best metric. For example, it would be better to omit several ratings for each user and then compute the **precision at k (denoted p@k)**, which consists of recommending $k$ podcasts for each user and determining which fraction of those recommendations is relevant. What we are doing above is effectively p@1 (precision at 1). There are other more sophisticated metrics, but they also require making multiple recommendations per user. The reason we cannot use these metrics is that most users only have 3 ratings and removing more than one would leave them with 1 rating, which is basically useless for collaborative filtering. If we instead only removed ratings from a subset of users who left many ratings, we would be biasing our metric in favor of a minority of very active users."
   ]
  },
  {
   "cell_type": "code",
   "execution_count": 17,
   "id": "60bb228b-3ed8-4823-98a1-d61f7fad052e",
   "metadata": {
    "tags": []
   },
   "outputs": [],
   "source": [
    "ratings_train, ratings_test = leave_k_out_split(implicit_ratings, K=1)"
   ]
  },
  {
   "cell_type": "code",
   "execution_count": 18,
   "id": "87339da6-2060-4efb-a242-6479b9598acb",
   "metadata": {},
   "outputs": [
    {
     "data": {
      "application/vnd.jupyter.widget-view+json": {
       "model_id": "346050e38bc94210be682d9d288528d9",
       "version_major": 2,
       "version_minor": 0
      },
      "text/plain": [
       "  0%|          | 0/15 [00:00<?, ?it/s]"
      ]
     },
     "metadata": {},
     "output_type": "display_data"
    }
   ],
   "source": [
    "import os\n",
    "os.environ[\"MKL_NUM_THREADS\"] = \"1\"\n",
    "als_recommender = AlternatingLeastSquares(factors=50, regularization=0.1, random_state=42)\n",
    "als_recommender.fit(2 * ratings_train.T)"
   ]
  },
  {
   "cell_type": "code",
   "execution_count": 19,
   "id": "fb37d1c3-dcdb-47f8-bf29-c0a83f662389",
   "metadata": {},
   "outputs": [
    {
     "data": {
      "application/vnd.jupyter.widget-view+json": {
       "model_id": "526f7b330fe1449595d0c31847ac4eed",
       "version_major": 2,
       "version_minor": 0
      },
      "text/plain": [
       "  0%|          | 0/10607 [00:00<?, ?it/s]"
      ]
     },
     "metadata": {},
     "output_type": "display_data"
    },
    {
     "data": {
      "text/plain": [
       "0.09263038548752835"
      ]
     },
     "execution_count": 19,
     "metadata": {},
     "output_type": "execute_result"
    }
   ],
   "source": [
    "precision_at_k(als_recommender, ratings_train, ratings_test, K=1)"
   ]
  },
  {
   "cell_type": "markdown",
   "id": "bb93f066-3394-4df3-92d0-67fa3ab39104",
   "metadata": {},
   "source": [
    "As a baseline, we will also compute the precision for a simple recommender which recommends the most popular podcast to all users. To be precise, it recommends the most popular podcast among those not already liked by the user in the training set, because those recommendations are not scored as hits when computing the precision (we want the recommender to suggest \"new\" podcasts after all).\n",
    "\n",
    "We write the baseline in such a way that it can also recommend multiple podcasts. It simply recommends the $N$ most popular podcasts, given some $N$."
   ]
  },
  {
   "cell_type": "code",
   "execution_count": 20,
   "id": "bc764e27-feb1-4d2d-8b70-8ea4122c45f6",
   "metadata": {},
   "outputs": [],
   "source": [
    "class PopularityBaseline():\n",
    "    def __init__(self, implicit_ratings):\n",
    "        podcast_ids, count = np.unique(implicit_ratings.tocoo().col, return_counts=True)\n",
    "        self.top_podcasts = podcast_ids[np.argsort(-count)]\n",
    "    def recommend(self, user_id, user_items, N=10):\n",
    "        '''Recommend the most popular podcasts, but exclude podcasts which the users in user_ids\n",
    "        have already interacted with according to user_items'''\n",
    "        user_items = user_items.tocoo()\n",
    "        this_user = user_items.row == user_id\n",
    "        liked_podcasts = set(user_items.col[this_user])\n",
    "        recom = []\n",
    "        for podcast in self.top_podcasts:\n",
    "            if podcast not in liked_podcasts:\n",
    "                recom.append(podcast)\n",
    "            if len(recom) == N:\n",
    "                break\n",
    "        else:\n",
    "            raise Exception('Not enough podcasts remaining to recommend')\n",
    "        return list(zip(recom, [0] * N)) # The implicit API expects a score for each podcast\n",
    "        \n",
    "popularity_baseline = PopularityBaseline(implicit_ratings)"
   ]
  },
  {
   "cell_type": "code",
   "execution_count": 21,
   "id": "faf1f849-68e3-434b-ad4e-e9e397da1cb3",
   "metadata": {
    "tags": []
   },
   "outputs": [
    {
     "data": {
      "application/vnd.jupyter.widget-view+json": {
       "model_id": "cc6a99ff72b949aaba0113f727e0f20c",
       "version_major": 2,
       "version_minor": 0
      },
      "text/plain": [
       "  0%|          | 0/10607 [00:00<?, ?it/s]"
      ]
     },
     "metadata": {},
     "output_type": "display_data"
    },
    {
     "data": {
      "text/plain": [
       "0.02913832199546485"
      ]
     },
     "execution_count": 21,
     "metadata": {},
     "output_type": "execute_result"
    }
   ],
   "source": [
    "precision_at_k(popularity_baseline, ratings_train, ratings_test, K=1)"
   ]
  },
  {
   "cell_type": "markdown",
   "id": "119c7b7f-9b97-4c55-ba87-745a41e7e00d",
   "metadata": {},
   "source": [
    "Our recommender system is significantly better than the baseline recommender ($9.3\\%$ versus $2.9\\%$). It appears the recommender learned something!"
   ]
  },
  {
   "cell_type": "markdown",
   "id": "9e989bf3-7ae5-409e-95bf-0bd7e6e8b410",
   "metadata": {},
   "source": [
    "Now we will train the recommender again but with the whole implicit rating set, not just the a smaller training set. We will use this recommender going forward."
   ]
  },
  {
   "cell_type": "code",
   "execution_count": 22,
   "id": "5a2853b2-5755-40ff-9c8d-3fd48a0e988c",
   "metadata": {},
   "outputs": [
    {
     "data": {
      "application/vnd.jupyter.widget-view+json": {
       "model_id": "dc73ca58d1404319b6a4fcb0390be41e",
       "version_major": 2,
       "version_minor": 0
      },
      "text/plain": [
       "  0%|          | 0/15 [00:00<?, ?it/s]"
      ]
     },
     "metadata": {},
     "output_type": "display_data"
    }
   ],
   "source": [
    "als_recommender = AlternatingLeastSquares(factors=50, regularization=0.1, random_state=42)\n",
    "als_recommender.fit(2 * implicit_ratings.T)"
   ]
  },
  {
   "cell_type": "markdown",
   "id": "83b97410-bea5-4dfe-9464-f143623cc685",
   "metadata": {},
   "source": [
    "## Latent Factors\n",
    "\n",
    "Recall that the our recommender works by finding latent factors for all podcasts and all users, such that the inner product of the user and podcast vectors is as close as possible to the corresponding user preferences. Another way of looking at this is that preference (of a user for a podcast) or similarity (of two podcasts, or two users, to each other) corresponds to vectors pointing in a similar direction (technically, having a high cosine similarity, or low cosine distance).\n",
    "\n",
    "In light of the above, to introspect the recommender we must visualize the latent factors. We will do this for the most popular podcasts in the dataset. Because the latent space is 50-dimensional we will project it down to 2 dimensions. We will use **Principal Component Analysis** (PCA) to find the two directions in which the latent factors vary the most and project down to those."
   ]
  },
  {
   "cell_type": "code",
   "execution_count": 23,
   "id": "a052d804-5f06-4140-bb2b-d0ab4132785e",
   "metadata": {},
   "outputs": [],
   "source": [
    "podcast_ids, count = np.unique(implicit_ratings.tocoo().col, return_counts=True)\n",
    "top_podcasts = podcast_ids[np.argsort(-count)][:25]"
   ]
  },
  {
   "cell_type": "code",
   "execution_count": 24,
   "id": "cb34bd03-4f03-4e84-9ac8-6cf3b07fdb61",
   "metadata": {
    "tags": []
   },
   "outputs": [],
   "source": [
    "pca = PCA(n_components=5)\n",
    "reduced_item_factors = pca.fit_transform(als_recommender.item_factors)"
   ]
  },
  {
   "cell_type": "code",
   "execution_count": 25,
   "id": "456d30c9-da3c-4e12-b9d8-338ec61138f7",
   "metadata": {
    "tags": []
   },
   "outputs": [
    {
     "data": {
      "image/png": "[encoded data removed]",
      "text/plain": [
       "<Figure size 1080x1080 with 1 Axes>"
      ]
     },
     "metadata": {
      "needs_background": "light"
     },
     "output_type": "display_data"
    }
   ],
   "source": [
    "fig, ax = plt.subplots(figsize=(15, 15))\n",
    "\n",
    "X = reduced_item_factors[top_podcasts].T[1]\n",
    "Y = reduced_item_factors[top_podcasts].T[0]\n",
    "ax.set_title('Latent Podcast Space', fontdict = {'fontsize' : 20})\n",
    "ax.scatter(X, Y)\n",
    "for i, x, y in zip(podcast_names[top_podcasts], X, Y):\n",
    "    ax.text(x, y, i, color=np.random.rand(3)*0.7, fontsize=14)"
   ]
  },
  {
   "cell_type": "markdown",
   "id": "b72f88de-0b36-4333-95f6-71924e593071",
   "metadata": {},
   "source": [
    "We must take the visualization with a grain of salt because obviously information is lost when we project a 50-dimensional space down to two dimensions. Specifically, podcasts that appear close in the projection might not be close at all in the full space.\n",
    "\n",
    "That said, there appears to be some clear structure, which we will describe below. We must also remember that this is not some random 2D projection, but a projection to the two axes of highest variability (principal components).\n",
    "\n",
    "Let's start with the **horizontal direction** (or x axis). Podcasts targeted at children are on the right and podcasts targeted at more mature audiences are to the left. The most extreme values are attained by 'Wow to the World' and 'Story Pirates', which are the most popular podcasts for kids. Judging from the content of the reviews there seems to be a bit of a rivalry between those two podcasts, although they have a large overlap in preference. 'Smash Boom Best' and 'Pants on Fire' are for children as well. It is interesting that the two podcasts on stories for kids are so close to each other.\n",
    "\n",
    "In the **vertical direction** (or y axis), the situation is not as clear-cut but we can recognize different genres bunch together.  The podcasts at the top all focus on self-improvement or self-help. The tiles 'The Learning Leader Show', 'Discover Your Talent', and 'Mindulness Mode' are self-explanatory. 'Confessions of a Terrible Husband' is about relationship advice. As for 'Leveling Up', this is a (partial) quote from the official website: \"Leveling Up is a radical new perspective on achieving success \\[...\\]\". On the other hand the podcasts at the bottom are all for pure entertainment (true crime themed and slightly above, pop culture and comedy)."
   ]
  },
  {
   "cell_type": "markdown",
   "id": "c626da3d-c0db-421d-87c9-686457fcdd17",
   "metadata": {
    "tags": []
   },
   "source": [
    "## Podcast Similarity"
   ]
  },
  {
   "cell_type": "markdown",
   "id": "66081fb5-a569-41e2-abcf-7af88a156a22",
   "metadata": {},
   "source": [
    "As a reality check, we will go through a couple of popular podcasts and inspect the 10 most similar podcasts according to our model. I find the results pretty impressive considering the limited information the model was trained on. Click on \"show\" to view the output."
   ]
  },
  {
   "cell_type": "code",
   "execution_count": 26,
   "id": "2703522e-5ba0-4ebc-a978-4b49ddba23a3",
   "metadata": {},
   "outputs": [],
   "source": [
    "def get_k_most_similar_podcasts(name, recommender, podcast_names, K=10):\n",
    "    this_name = np.where(podcast_names == name)[0][0]\n",
    "    return [podcast_names[idx] for idx, _ in recommender.similar_items(this_name, N=K+1)[1:]]"
   ]
  },
  {
   "cell_type": "code",
   "execution_count": 27,
   "id": "48761303-9a0e-427b-a08e-85f5ce198743",
   "metadata": {},
   "outputs": [
    {
     "data": {
      "text/plain": [
       "['Scary Stories To Tell On The Pod',\n",
       " 'Puck Soup',\n",
       " 'Who Killed Theresa?',\n",
       " 'Murder Minute',\n",
       " 'Mother, May I Sleep With Podcast?',\n",
       " 'Manifestation Babe',\n",
       " 'Encyclopedia Womannica',\n",
       " 'Highest Self Podcast',\n",
       " 'The TryPod',\n",
       " 'Story Story Podcast: Stories and fairy tales for families, parents, kids and beautiful nerds.']"
      ]
     },
     "execution_count": 27,
     "metadata": {},
     "output_type": "execute_result"
    }
   ],
   "source": [
    "#collapse-output\n",
    "get_k_most_similar_podcasts('My Favorite Murder with Karen Kilgariff and Georgia Hardstark', als_recommender, podcast_names, 10)"
   ]
  },
  {
   "cell_type": "code",
   "execution_count": 28,
   "id": "190ec3f6-cdd5-4645-84e8-c84f5b8f9d72",
   "metadata": {},
   "outputs": [
    {
     "data": {
      "text/plain": [
       "['Bret Weinstein | DarkHorse Podcast',\n",
       " 'Artificial Intelligence (AI)',\n",
       " 'Cleared Hot',\n",
       " 'Ben Greenfield Fitness',\n",
       " 'The Bill Bert Podcast',\n",
       " 'Walk-Ins Welcome w/ Bridget Phetasy',\n",
       " \"Congratulations with Chris D'Elia\",\n",
       " 'Jocko Podcast',\n",
       " 'expediTIously with Tip \"T.I.\" Harris',\n",
       " 'Team Never Quit']"
      ]
     },
     "execution_count": 28,
     "metadata": {},
     "output_type": "execute_result"
    }
   ],
   "source": [
    "#collapse-output\n",
    "get_k_most_similar_podcasts('The Joe Rogan Experience', als_recommender, podcast_names, 10)"
   ]
  },
  {
   "cell_type": "code",
   "execution_count": 29,
   "id": "efdff22a-a97d-435d-8fc1-72602dc1c20d",
   "metadata": {},
   "outputs": [
    {
     "data": {
      "text/plain": [
       "['By Kids, For Kids Story Time',\n",
       " 'Katie, The Ordinary Witch',\n",
       " 'Listen Out Loud with The Loud House',\n",
       " 'Minecraft Me - SD Video',\n",
       " 'Story Story Podcast: Stories and fairy tales for families, parents, kids and beautiful nerds.',\n",
       " 'Scary Story Podcast',\n",
       " 'Wow in the World',\n",
       " 'Highlights Hangout',\n",
       " 'The Casagrandes Familia Sounds',\n",
       " 'KiDNuZ']"
      ]
     },
     "execution_count": 29,
     "metadata": {},
     "output_type": "execute_result"
    }
   ],
   "source": [
    "#collapse-output\n",
    "get_k_most_similar_podcasts('Story Pirates', als_recommender, podcast_names, 10)"
   ]
  },
  {
   "cell_type": "code",
   "execution_count": 30,
   "id": "9fc482ec-e2af-4d70-bd35-4290baa2caca",
   "metadata": {},
   "outputs": [
    {
     "data": {
      "text/plain": [
       "['Real Estate Investing For Cash Flow Hosted by Kevin Bupp.',\n",
       " 'Jake and Gino: Multifamily Real Estate Investing & More',\n",
       " 'Target Market Insights: Multifamily + Marketing',\n",
       " 'Before the Millions | Lifestyle Design Through Real Estate | Passive Cashflow Investing Tips and Str...',\n",
       " 'Lifetime Cash Flow Through Real Estate Investing',\n",
       " 'Dwellynn Show - Financial Freedom through Real Estate Investing',\n",
       " 'Investing In The U.S.',\n",
       " 'Accelerated Investor Podcast',\n",
       " 'Support is Sexy Podcast with Elayne Fluker | Interviews with Successful Women Entrepreneurs 5 Days a...',\n",
       " 'Simple Passive Cashflow']"
      ]
     },
     "execution_count": 30,
     "metadata": {},
     "output_type": "execute_result"
    }
   ],
   "source": [
    "#collapse-output\n",
    "get_k_most_similar_podcasts('Best Real Estate Investing Advice Ever', als_recommender, podcast_names, 10)"
   ]
  },
  {
   "cell_type": "code",
   "execution_count": 31,
   "id": "265e8eb4-a736-4bad-b4fc-634d05ac862d",
   "metadata": {},
   "outputs": [
    {
     "data": {
      "text/plain": [
       "['Pregnancy Podcast',\n",
       " 'The Bitcoin Knowledge Podcast',\n",
       " 'Undone Redone',\n",
       " 'Recording Studio Rockstars',\n",
       " 'Take Up Code',\n",
       " 'Wedding Planning Podcast',\n",
       " 'Podcast Junkies',\n",
       " 'Tandem Nomads - From expat partners to global entrepreneurs!  Build a successful business and thrive...',\n",
       " 'Fearless And Healthy Podcast|Holistic Health|Success Habits|Lifestyle',\n",
       " 'Play Your Position with Mary Lou Kayser']"
      ]
     },
     "execution_count": 31,
     "metadata": {},
     "output_type": "execute_result"
    }
   ],
   "source": [
    "#collapse-output\n",
    "get_k_most_similar_podcasts('Mindfulness Mode', als_recommender, podcast_names, 10)"
   ]
  },
  {
   "cell_type": "code",
   "execution_count": 32,
   "id": "0bc059da-79c8-43f9-ae43-a437730d64f1",
   "metadata": {},
   "outputs": [
    {
     "data": {
      "text/plain": [
       "['People Behind the Science Podcast - Stories from Scientists about Science, Life, Research, and Scien...',\n",
       " 'Brilliant Business Moms with Beth Anne Schwamberger',\n",
       " 'The Inside Winemaking Podcast with Jim Duane',\n",
       " 'Top Traders Unplugged',\n",
       " 'Big Wig Nation with Darrin Bentley',\n",
       " 'Own It! For Entrepreneurs.  Talking Digital Marketing, Small Business, Being Digital Nomads and Succ...',\n",
       " 'Maura Sweeney: Living Happy Inside Out | Encouragement | Inspiration | Empowerment | Leadership',\n",
       " 'Commercial Real Estate Elite: Broker to Brokers',\n",
       " 'Whistle and a Clipboard- the coaching communities resource',\n",
       " 'Podcast Junkies']"
      ]
     },
     "execution_count": 32,
     "metadata": {},
     "output_type": "execute_result"
    }
   ],
   "source": [
    "#collapse-output\n",
    "get_k_most_similar_podcasts('ADHD reWired', als_recommender, podcast_names, 10)"
   ]
  },
  {
   "cell_type": "code",
   "execution_count": 33,
   "id": "8f2262e2-7ee0-48e9-a433-967af45e8001",
   "metadata": {},
   "outputs": [
    {
     "data": {
      "text/plain": [
       "['Fierce Girls',\n",
       " 'Short & Curly',\n",
       " 'Big Life Kids Podcast',\n",
       " 'Dream Big Podcast',\n",
       " 'Book Club for Kids',\n",
       " 'Katie, The Ordinary Witch',\n",
       " 'Saturday Morning Theatre',\n",
       " 'KiDNuZ',\n",
       " 'Storynory - Stories for Kids',\n",
       " 'The Calm Kids Podcast']"
      ]
     },
     "execution_count": 33,
     "metadata": {},
     "output_type": "execute_result"
    }
   ],
   "source": [
    "#collapse-output\n",
    "get_k_most_similar_podcasts('Good Night Stories for Rebel Girls', als_recommender, podcast_names, 10)"
   ]
  },
  {
   "cell_type": "code",
   "execution_count": 34,
   "id": "faa40b1a-1c91-4d30-a031-ff36bd277ef4",
   "metadata": {},
   "outputs": [
    {
     "data": {
      "text/plain": [
       "['Leaders Inspire Leaders | Koy McDermott - Millennial Leadership Consultant | Personal & Professional...',\n",
       " \"Where There's Smoke\",\n",
       " 'Tandem Nomads - From expat partners to global entrepreneurs!  Build a successful business and thrive...',\n",
       " 'On Air with Ella',\n",
       " 'Everyday MBA',\n",
       " 'MLM Nation',\n",
       " \"Worldbuilder's Anvil\",\n",
       " 'The Bitcoin Knowledge Podcast',\n",
       " 'Fearless And Healthy Podcast|Holistic Health|Success Habits|Lifestyle',\n",
       " 'Play Your Position with Mary Lou Kayser']"
      ]
     },
     "execution_count": 34,
     "metadata": {},
     "output_type": "execute_result"
    }
   ],
   "source": [
    "#collapse-output\n",
    "get_k_most_similar_podcasts('Leveling Up with Eric Siu', als_recommender, podcast_names, 10)"
   ]
  },
  {
   "cell_type": "code",
   "execution_count": 35,
   "id": "4c304bfd-1892-4675-a670-ca0e8ce61bd7",
   "metadata": {},
   "outputs": [
    {
     "data": {
      "text/plain": [
       "['The Mayan Crystal',\n",
       " 'The Cramazingly Incredifun Sugarcrash Kids Podcast',\n",
       " 'Minecraft Me - SD Video',\n",
       " 'Saturday Morning Theatre',\n",
       " 'Short & Curly',\n",
       " 'Smash Boom Best',\n",
       " 'Book Club for Kids',\n",
       " 'The Casagrandes Familia Sounds',\n",
       " 'The Past and The Curious: A History Podcast for Kids and Families',\n",
       " 'Listen Out Loud with The Loud House']"
      ]
     },
     "execution_count": 35,
     "metadata": {},
     "output_type": "execute_result"
    }
   ],
   "source": [
    "#collapse-output\n",
    "get_k_most_similar_podcasts('Pants on Fire', als_recommender, podcast_names, 10)"
   ]
  },
  {
   "cell_type": "code",
   "execution_count": 36,
   "id": "0a2f1bde-7b6f-4842-ac74-4df7c966b269",
   "metadata": {},
   "outputs": [
    {
     "data": {
      "text/plain": [
       "['Logically Irrational',\n",
       " 'Mommies Tell All',\n",
       " 'The Ben and Ashley I Almost Famous Podcast',\n",
       " 'Hot Marriage. Cool Parents.',\n",
       " 'Miraculous Mamas',\n",
       " 'Off The Vine with Kaitlyn Bristowe',\n",
       " 'Scrubbing In with Becca Tilley & Tanya Rad',\n",
       " 'Ringer Dish',\n",
       " 'Know Your Aura with Mystic Michaela',\n",
       " 'Another Bachelor Podcast']"
      ]
     },
     "execution_count": 36,
     "metadata": {},
     "output_type": "execute_result"
    }
   ],
   "source": [
    "#collapse-output\n",
    "get_k_most_similar_podcasts('Bachelor Happy Hour with Rachel & Ali – The Official Bachelor Podcast', als_recommender, podcast_names, 10)#collapse-output"
   ]
  },
  {
   "cell_type": "code",
   "execution_count": 37,
   "id": "b07361e3-3fa5-4c1c-8fca-222b131656c2",
   "metadata": {},
   "outputs": [
    {
     "data": {
      "text/plain": [
       "['Two Girls One Ghost',\n",
       " \"Dude, That's F****d Up\",\n",
       " 'Wine & Crime',\n",
       " 'Ghost Town',\n",
       " 'I Said God Damn! A True Crime Podcast',\n",
       " 'Beyond the Secret',\n",
       " 'Cult Podcast',\n",
       " 'Potterless',\n",
       " 'Death in the Afternoon',\n",
       " 'The Alarmist']"
      ]
     },
     "execution_count": 37,
     "metadata": {},
     "output_type": "execute_result"
    }
   ],
   "source": [
    "#collapse-output\n",
    "get_k_most_similar_podcasts(\"And That's Why We Drink\", als_recommender, podcast_names, 10)"
   ]
  },
  {
   "cell_type": "markdown",
   "id": "8ba65f48-68d8-4775-9e72-f89948d93673",
   "metadata": {
    "tags": []
   },
   "source": [
    "## Discussion\n",
    "Despite the fact that the dataset was drastically reduced after curation (removing podcasts with insufficient reviews and so on), the recommender still has 933 podcasts and about 10,607 users to work with, with a total of 40,585 positive ratings. The density is around $0.4\\%$, meaning that around $0.4\\%$ of all possible ratings (in other words, out of all user-podcast pairs) are are actually realized in the data.\n",
    "\n",
    "While this is a relatively small dataset for collaborative filtering, our recommender did pretty well:\n",
    "- On our test set, the accuracy was $0.09$ which is three times as high as the baseline recommender (which simply recommends the most popular podcasts). Recall that we computed this number by training the recommender while omitting 1 rating per user and then checking how often the omitted podcast was the *first* recommendation for each user. Getting the single omitted podcast on the first recommendation for $9\\%$ of users seems pretty good.\n",
    "- When we looked at recommendations of individual podcasts they were very compelling.\n",
    "- Finally, as we described above, there are clear patterns in the latent factors of the podcasts which can be visualized with PCA. We can summarize those findings as follows: The first principal component seems to correspond to a spectrum going from self-improvement to pure entertainment (with true crime at the very end). Along the second principal component the podcasts separate according to whether they are targeted at kids or adults."
   ]
  },
  {
   "cell_type": "markdown",
   "id": "a4db1cd7-4180-40a1-b988-b3fc9d7f0c5e",
   "metadata": {
    "tags": []
   },
   "source": [
    "## Closing Thoughts\n",
    "\n",
    "It seems that it was a good choice to turn the star ratings into an **implicit** dataset, with preferences and confidences. Remember that we did this because the vast majority of ratings give 5 stars, which suggests that a lot of information lies in the podcasts a user did *not* rate. That information is lost in the explicit paradigm because missing ratings are ignored, unlike in the implicit paradigm, where they are taken into account as low confidence negative preferences.\n",
    "\n",
    "I noticed that many **popular podcasts** are missing (based on [this]() list of top 100 podcasts as of early 2022). When I brought this up with the curator of the dataset on Kaggle he confirmed that many podcasts are left out on purpose. However, he admitted that he hadn't realized how many popular podcasts were missing. This is unfortunate because if we do not know exactly how podcasts have been selected, we cannot correct for sampling bias.\n",
    "\n",
    "On a related note: Joe Rogan's immensely popular and controversial podcast is not on Apple Podcasts since 2020, when it became a Spotify exclusive in a deal involving [reportedly](https://www.theverge.com/2022/2/17/22939587/joe-rogan-experience-spotify-podcast-deal) two hundred million dollars. Nonetheless, it appears many users were still able to leave reviews after the move, and some even wonder in their review why they aren't able to access the podcast anymore (and sometimes leave a negative rating in protest). This doesn't seem to have thrown off the recommender, judging by the list of podcasts most similar to 'The Joe Rogan Experience', which seems very appropriate.\n",
    "\n",
    "The **next steps** would be to put together a **larger dataset** in which most popular podcasts are actually included. Then we would **tune the hyperparameters** of our model and evaluate the model with the best parameters using **cross-validation**. Note that a **larger dataset is needed** to properly carry out the parameter search and final evaluation. The parameter search requires cross-validation to evaluate the models with different parameters and this needs to be nested within a larger cross-validation to evaluate the performance of the best parameters found in the search. The nested cross-validation in this context requires removing one rating per user for the outer split and an additional rating per user for the inner split. In our data a majority of users only have 3 ratings, which would leave them with only a single rating in the training set (useless for collaborative filtering). If we wanted to use a better metric such as p@3, a total of 6 ratings per user would be omitted, needing even more ratings per user."
   ]
  }
 ],
 "metadata": {
  "kernelspec": {
   "display_name": "Python 3 (ipykernel)",
   "language": "python",
   "name": "python3"
  },
  "language_info": {
   "codemirror_mode": {
    "name": "ipython",
    "version": 3
   },
   "file_extension": ".py",
   "mimetype": "text/x-python",
   "name": "python",
   "nbconvert_exporter": "python",
   "pygments_lexer": "ipython3",
   "version": "3.8.12"
  }
 },
 "nbformat": 4,
 "nbformat_minor": 5
}
